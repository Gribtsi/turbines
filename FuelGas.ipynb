{
  "metadata": {
    "language_info": {
      "codemirror_mode": {
        "name": "python",
        "version": 3
      },
      "file_extension": ".py",
      "mimetype": "text/x-python",
      "name": "python",
      "nbconvert_exporter": "python",
      "pygments_lexer": "ipython3",
      "version": "3.8"
    },
    "kernelspec": {
      "name": "python",
      "display_name": "Python (Pyodide)",
      "language": "python"
    }
  },
  "nbformat_minor": 4,
  "nbformat": 4,
  "cells": [
    {
      "cell_type": "code",
      "source": "from enum import Enum\n\nclass FuelGas:\n    \n    class NaturalGas(Enum):\n        urengoyskoye = [98.40,0.10,0,0,0,1.20,0.30,0,0,0]\n        yamburgskoye = [98.60,0.10,0,0,0,1.20,0.10,0,0,0]\n    \n    homologues_count = 4\n    \n    def __init__(self, deposit_type, temperature, alpha):\n        \n        self.temp = temperature\n        self.alpha = alpha\n        \n        self.__gas_type = deposit_type\n        self.__composition = self.NaturalGas[deposit_type].value\n        self.__lower_calorific_value = 358.2*self.__composition[0]+637.4*self.__composition[1]+860.05*self.__composition[2]+1185.8*self.__composition[3]\n        self.__stoichiometric_air_flow = 0.0476*sum([self.__composition[i]*(3*i+4)/2 for i in range(self.homologues_count)])\n        self.__v0_n2 = 0.079*self.__stoichiometric_air_flow+0.01*self.__composition[5]\n        self.__v0_ro2 = 0.01*(self.__composition[6] + sum([self.__composition[i]*(i+1) for i in range(self.homologues_count)]))\n        self.__v0_h2o = 0.01*(sum([self.__composition[i]*(i+2) for i in range(self.homologues_count)])+1.61*self.__stoichiometric_air_flow)\n    \n    \n    @property\n    def __c_co2(self):\n        return 4.1868*(4.5784*10**-11*self.temp**3-1.51719*self.temp**2+2.50113*10**-4*self.temp+0.382325)\n    @property\n    def __c_n2(self):\n        return 4.1868*(-2.24553*10**-11*self.temp**3+4.85082*self.temp**2-2.90598*10**-4*self.temp+0.309241)\n    @property\n    def __c_h2o(self):\n        return 4.1868*(-2.10956*10**-11*self.temp**3+4.9732*self.temp**2+2.60629*10**-4*self.temp+0.356691)\n    @property\n    def __c_air(self):\n        return 4.1868*(-2.1717*10**-11*self.temp**3+4.19344*self.temp**2+8.00891*10**-4*self.temp+0.315027)\n    \n    @property\n    def v_h2o(self):\n        return self.__v0_h2o + 0.0161*(self.alpha-1)*self.__stoichiometric_air_flow\n    @property\n    def v_g(self):\n        return self.__v0_ro2+self.__v0_n2+self.v_h2o()+(self.alpha-1)*self.__stoichiometric_air_flow\n    @property\n    def h0_g(self):\n        return (self.__v0_ro2*self.__c_co2+self.__v0_n2*self.__c_n2+self.__v0_h2o*self.__c_h2o)*self.temp\n    @property\n    def h0_air(self):\n        return self.__stoichiometric_air_flow*self.__c_air*self.temp\n    @property\n    def h0_g_relative_to_burned_fuel(self):\n        return self.h0_g+(self.alpha-1)*self.h0_air\n    \n\n    class PerVeRT:\n        R = 8.31446261815324 #Joule/(mole*K)\n        @staticmethod\n        def t_by_pv(pressure, volume):\n            return pressure*volume/R\n        @staticmethod\n        def v_by_pt(pressure, temperature):\n            return R*temperature/pressure\n        @staticmethod\n        def p_by_vt(volume, temperature):\n            return R*temperature/volume\n        \n        ",
      "metadata": {
        "trusted": true
      },
      "execution_count": 1,
      "outputs": []
    },
    {
      "cell_type": "code",
      "source": "fg = FuelGas(deposit_type=\"urengoyskoye\",temperature=300,alpha=3.131)\nprint(fg.h0_air)",
      "metadata": {
        "trusted": true
      },
      "execution_count": 2,
      "outputs": [
        {
          "name": "stdout",
          "text": "4448573655.11574\n",
          "output_type": "stream"
        }
      ]
    }
  ]
}