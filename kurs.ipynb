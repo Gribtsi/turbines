{
 "cells": [
  {
   "cell_type": "markdown",
   "metadata": {},
   "source": [
    " <h2 style=\"text-align: center;\">НАЦИОНАЛЬНЫЙ ИССЛЕДОВАТЕЛЬСКИЙ УНИВЕРСИТЕТ \n",
    " <br/>МОСКОВСКИЙ ЭНЕРГЕТИЧЕСКИЙ ИНСТИТУТ</h2>\n",
    " </br>\n",
    " <h3 style=\"text-align: center;\">Кафедра Паровых и Газовых Турбин</h3>\n",
    "\n",
    " </br>\n",
    " </br>\n",
    " </br>\n",
    " </br>\n",
    " </br>\n",
    "\n",
    " <h1 style=\"text-align: center;\">Курсовая работа по курсу:</h1>\n",
    " <h1 style=\"text-align: center;\">«Паровые и газовые турбины»</h1>\n",
    "\n",
    " </br>\n",
    " </br>\n",
    " </br>\n",
    " </br>\n",
    " </br>\n",
    "\n",
    " <h5 style=\"text-align: right;\">Студент: Иванов Иван Иванович</h5>\n",
    " <h5 style=\"text-align: right;\">Группа: С-04-15</h5>\n",
    "\n",
    " </br>\n",
    " </br>\n",
    " </br>\n",
    " </br>\n",
    " </br>\n",
    " </br>\n",
    " </br>\n",
    " </br>\n",
    " </br>\n",
    " </br>\n",
    " </br>\n",
    " </br>\n",
    " </br>\n",
    " </br>\n",
    " </br>\n",
    "\n",
    " <h5 style=\"text-align: center;\">Москва 2023</h5>"
   ]
  },
  {
   "cell_type": "markdown",
   "metadata": {},
   "source": [
    "\n",
    "\n",
    " ## Вариант №1\n",
    "\n",
    " ### $\\space$ Дано:\n",
    " * $P_0 = 24.5 \\space МПа $ - <Давление острого пара>\n",
    " * $t_0 = 560 ^\\circ C$ -  <Температура острого пара>\n",
    " * $P_{пп} = 3.46 \\space МПа$ -  <Давление промежуточного перегрева>\n",
    " * $t_{пп} = 565 ^\\circ C$ -  <Температура горячей нитки промежуточного перегрева>\n",
    " * $P_{к} = 3.7 \\space кПа$ -  <Давление в конденсаторе>\n",
    " * $t_{п.в.} = 268^\\circ C$ -  <Температура питательной воды>\n",
    "\n",
    " * $N_{э} = 310 \\space МВт$ -  <Электрическая мощность>\n",
    " * $z = 8$ -  <Количество регенеративных подогревателей>\n"
   ]
  },
  {
   "cell_type": "code",
   "execution_count": 9,
   "metadata": {
    "tags": []
   },
   "outputs": [],
   "source": [
    "import math\n",
    "import iapws\n",
    "import numpy\n",
    "import matplotlib.pyplot as plt\n",
    "from iapws import IAPWS97 as gas\n",
    "from math import sqrt\n",
    "from enum import Enum\n",
    "import sys\n",
    "import dataclasses"
   ]
  },
  {
   "cell_type": "code",
   "execution_count": 10,
   "metadata": {},
   "outputs": [],
   "source": [
    "sys.path.append(\"..\")\n",
    "from Steam_Turbine_Machine import STM, plot_hs_diagram, plot_process\n",
    "from Turbine_Stage import Turbine_Stage\n",
    "from Array_Data import Array_Data\n",
    "from Vector_2 import vector2"
   ]
  },
  {
   "cell_type": "code",
   "execution_count": 11,
   "metadata": {
    "tags": []
   },
   "outputs": [],
   "source": [
    "MPa = 10 ** 6\n",
    "kPa = 10 ** 3\n",
    "unit = 1 / MPa\n",
    "cm = 1/100\n",
    "mm = 1 / 1000\n",
    "kJ = 1000\n",
    "to_kelvin = lambda x: x + 273.15 if x else None"
   ]
  },
  {
   "cell_type": "code",
   "execution_count": 12,
   "metadata": {},
   "outputs": [],
   "source": [
    "electrical_power = 310 * (10 ** 6)\n",
    "p0 = 24.5 * MPa\n",
    "t0 = 560\n",
    "p_middle = 3.46 * MPa\n",
    "t_middle = 565\n",
    "pk = 3.7 * kPa\n",
    "t_feed_water = 268\n",
    "p_feed_water = 1.4 * p0\n",
    "z = 8\n",
    "\n",
    "internal_efficiency = 0.85\n",
    "mechanical_efficiency = 0.994\n",
    "generator_efficiency = 0.99"
   ]
  },
  {
   "cell_type": "code",
   "execution_count": 13,
   "metadata": {
    "scrolled": true
   },
   "outputs": [
    {
     "name": "stdout",
     "output_type": "stream",
     "text": [
      "Массовый расход в турбину на входе:  239.12057265187462 \n",
      "Массовый расход в конденсатор: 159.54364436417112\n"
     ]
    }
   ],
   "source": [
    "turbine = STM(electrical_power, p0, t0, p_middle, t_middle, pk, t_feed_water, \n",
    "              p_feed_water, z, internal_efficiency, mechanical_efficiency, generator_efficiency)\n",
    "print(\"Массовый расход в турбину на входе: \", turbine.inlet_mass_flow, \n",
    "      \"\\nМассовый расход в конденсатор:\", turbine.condenser_mass_flow)"
   ]
  },
  {
   "cell_type": "code",
   "execution_count": null,
   "metadata": {
    "tags": []
   },
   "outputs": [],
   "source": [
    "fig, ax  = plt.subplots(1, 1, figsize=(15, 15))\n",
    "plot_hs_diagram(\n",
    "    ax,\n",
    "    points=[turbine._point_0, turbine.point_0, turbine.point_1t, turbine.point_1, \n",
    "            turbine._point_middle, turbine.point_middle, turbine.point_2, turbine.point_2t]\n",
    ")\n",
    "plot_process(ax, points=[turbine._point_0, turbine.point_0, turbine.point_1], color='black')\n",
    "plot_process(ax, points=[turbine._point_middle, turbine.point_middle, turbine.point_2], color='black')\n",
    "plot_process(ax, points=[turbine._point_0, turbine.point_0, turbine.point_1t], alpha=0.5, color='grey')\n",
    "plot_process(ax, points=[turbine._point_middle, turbine.point_middle, turbine.point_2t], alpha=0.5, color='grey')"
   ]
  },
  {
   "cell_type": "code",
   "execution_count": null,
   "metadata": {
    "tags": []
   },
   "outputs": [],
   "source": []
  },
  {
   "cell_type": "code",
   "execution_count": null,
   "metadata": {
    "scrolled": true,
    "tags": []
   },
   "outputs": [],
   "source": [
    "G = turbine.inlet_mass_flow\n",
    "d = 1.08\n",
    "n = 60\n",
    "P0 = p0\n",
    "t0 = t0\n",
    "c0 = 0\n",
    "H0 = numpy.array([90,110])\n",
    "p  = 0.1\n",
    "a0 = 90\n",
    "\n",
    "P0, t0, G\n",
    "\n",
    "stages = [Turbine_Stage(G, p0, t0, c0, i, p, d, n, a0) for i in range(H0[0], H0[1]+1)]\n",
    "\n",
    "#stage_variant.alpha1_e, stage_variant.alpha0"
   ]
  },
  {
   "cell_type": "code",
   "execution_count": null,
   "metadata": {
    "scrolled": true
   },
   "outputs": [],
   "source": [
    "for stage_variant in stages:\n",
    "    stage_variant.set_nozzle_array('c_90_15_a', 0.75, stage_variant.el1 / stage_variant.e_opt, stage_variant.c1_t / stage_variant.point_1t.w)"
   ]
  },
  {
   "cell_type": "code",
   "execution_count": null,
   "metadata": {
    "scrolled": true
   },
   "outputs": [],
   "source": [
    "for stage_variant in stages:\n",
    "    stage_variant.nozzle_array.set_specified_params(38, 0.065, stage_variant.alpha1_e, stage_variant.alpha0)\n",
    "    stage_variant.nozzle_array.check_for_errors()"
   ]
  },
  {
   "cell_type": "code",
   "execution_count": null,
   "metadata": {},
   "outputs": [],
   "source": [
    "for stage_variant in stages:\n",
    "    stage_variant.calc_point1()\n",
    "#stage_variant.w1, stage_variant.c1, stage_variant.betta1, stage_variant.w2t"
   ]
  },
  {
   "cell_type": "code",
   "execution_count": null,
   "metadata": {},
   "outputs": [],
   "source": [
    "for stage_variant in stages:\n",
    "    stage_variant.set_working_array('r_30_21_a', 0.6, stage_variant.nozzle_array.l + stage_variant.delta, stage_variant.w2t / stage_variant.point_2t.w)\n",
    "#stage_variant.working_array.t, stage_variant.working_array.M"
   ]
  },
  {
   "cell_type": "code",
   "execution_count": null,
   "metadata": {},
   "outputs": [],
   "source": [
    "for stage_variant in stages:\n",
    "    stage_variant.working_array.set_specified_params(81, 0.105, math.degrees(math.sin(stage_variant.F2 / stage_variant.e_opt / math.pi / stage_variant.d / stage_variant.working_array.l)), stage_variant.betta1)\n",
    "    stage_variant.working_array.check_for_errors()"
   ]
  },
  {
   "cell_type": "code",
   "execution_count": null,
   "metadata": {},
   "outputs": [],
   "source": [
    "for stage_variant in stages:\n",
    "    stage_variant.calc_point_2()\n",
    "    stage_variant.calc_efficiency()\n",
    "#stage_variant.N_i, stage_variant.etta_oi"
   ]
  },
  {
   "cell_type": "code",
   "execution_count": null,
   "metadata": {},
   "outputs": [],
   "source": [
    "for stage_variant in stages:\n",
    "    stage_variant.calc_durability()"
   ]
  },
  {
   "cell_type": "code",
   "execution_count": null,
   "metadata": {
    "scrolled": true
   },
   "outputs": [],
   "source": [
    "plt.style.use('_mpl-gallery')\n",
    "\n",
    "fig, ax = plt.subplots(figsize=(20, 10.8), layout='constrained')\n",
    "\n",
    "ax.plot([k.H0 for k in stages], [k.etta_oi for k in stages], linewidth=1, color = \"red\")\n",
    "\n",
    "# make data\n",
    "\n",
    "# plot\n",
    "ax.set(xlim=(90, 110), xticks=numpy.arange(90, 110, 5),\n",
    "       ylim=(0.6, 0.8), yticks=numpy.arange(0.6, 0.8, 0.01))\n",
    "\n",
    "plt.show()"
   ]
  },
  {
   "cell_type": "code",
   "execution_count": null,
   "metadata": {},
   "outputs": [],
   "source": [
    "optimal_stage = max(stages, key = lambda x : x.etta_oi)\n",
    "print(optimal_stage.H0, optimal_stage.etta_oi)\n",
    "\n",
    "w1 = vector2(-optimal_stage.w1 * math.cos(math.radians(optimal_stage.betta1)), -optimal_stage.w1 * math.sin(math.radians(optimal_stage.betta1)))\n",
    "c1 = vector2(-optimal_stage.c1 * math.cos(math.radians(optimal_stage.alpha1)), -optimal_stage.c1 * math.sin(math.radians(optimal_stage.alpha1)))    \n",
    "w2 = vector2(optimal_stage.w2 * math.cos(math.radians(optimal_stage.betta2)), -optimal_stage.w2 * math.sin(math.radians(optimal_stage.betta2)))\n",
    "c2 = vector2(optimal_stage.c2 * math.cos(math.radians(optimal_stage.alpha2)), -optimal_stage.c2 * math.sin(math.radians(optimal_stage.alpha2)))    \n",
    "\n",
    "plt.style.use('_mpl-gallery')\n",
    "\n",
    "fig, ax = plt.subplots(figsize=(20, 10.8), layout='constrained')\n",
    "\n",
    "ax.plot([w1.x0, w1.x1], [w1.y0, w1.y1], linewidth=1, color = \"blue\")\n",
    "ax.plot([w2.x0, w2.x1], [w2.y0, w2.y1], linewidth=1, color = \"blue\")\n",
    "ax.plot([c1.x0, c1.x1], [c1.y0, c1.y1], linewidth=1, color = \"red\")\n",
    "ax.plot([c2.x0, c2.x1], [c2.y0, c2.y1], linewidth=1, color = \"red\")\n",
    "\n",
    "ax.plot([w1.x1, c1.x1], [w1.y1, c1.y1], linewidth=1, color = \"black\")\n",
    "ax.plot([w2.x1, c2.x1], [w2.y1, c2.y1], linewidth=1, color = \"black\")\n",
    "\n",
    "\n",
    "# make data\n",
    "\n",
    "# plot\n",
    "ax.set(xlim=(-400, 250), xticks=numpy.arange(-400, 250, 50),\n",
    "       ylim=(-150, 50), yticks=numpy.arange(-150, 50, 50))\n",
    "\n",
    "plt.show()"
   ]
  },
  {
   "cell_type": "code",
   "execution_count": null,
   "metadata": {},
   "outputs": [],
   "source": []
  },
  {
   "cell_type": "code",
   "execution_count": null,
   "metadata": {},
   "outputs": [],
   "source": []
  },
  {
   "cell_type": "code",
   "execution_count": null,
   "metadata": {},
   "outputs": [],
   "source": []
  },
  {
   "cell_type": "code",
   "execution_count": null,
   "metadata": {},
   "outputs": [],
   "source": []
  }
 ],
 "metadata": {
  "celltoolbar": "Редактировать метаданные",
  "kernelspec": {
   "display_name": "Python 3 (ipykernel)",
   "language": "python",
   "name": "python3"
  },
  "language_info": {
   "codemirror_mode": {
    "name": "ipython",
    "version": 3
   },
   "file_extension": ".py",
   "mimetype": "text/x-python",
   "name": "python",
   "nbconvert_exporter": "python",
   "pygments_lexer": "ipython3",
   "version": "3.9.5"
  }
 },
 "nbformat": 4,
 "nbformat_minor": 4
}
